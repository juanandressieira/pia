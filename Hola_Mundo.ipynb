{
  "nbformat": 4,
  "nbformat_minor": 0,
  "metadata": {
    "colab": {
      "provenance": [],
      "authorship_tag": "ABX9TyOgew/TveCDVBYg6QgOpV9n",
      "include_colab_link": true
    },
    "kernelspec": {
      "name": "python3",
      "display_name": "Python 3"
    },
    "language_info": {
      "name": "python"
    }
  },
  "cells": [
    {
      "cell_type": "markdown",
      "metadata": {
        "id": "view-in-github",
        "colab_type": "text"
      },
      "source": [
        "<a href=\"https://colab.research.google.com/github/juanandressieira/pia/blob/main/Hola_Mundo.ipynb\" target=\"_parent\"><img src=\"https://colab.research.google.com/assets/colab-badge.svg\" alt=\"Open In Colab\"/></a>"
      ]
    },
    {
      "cell_type": "markdown",
      "source": [
        "**Apartado 1: Crear cuenta en GitHub y crear \"Hola Mundo\"**\n",
        "\n",
        "*   Accede a la página web de GitHub y sigue los pasos para registrarte y crearte una cuenta.\n",
        "\n",
        "*   Cuando se te pida que especifiques si eres alumno o profesor, pulsa en la opción que aparece en la parte inferior de la pantalla \"skip personalization\".\n",
        "\n",
        "*   Tras concluir el proceso de registro, crea tu primer repositorio, incluyendo, de momento, un archivo Readme en el que añadas, con lenguaje de marcación, una breve explicación de la tarea, y un archivo sencillo \"Hola Mundo\" en el lenguaje de programación Python.\n",
        "\n",
        "\n",
        "\n",
        "> *Alumno: Juan Andrés Sieira Pérez*\n",
        "\n",
        "\n",
        "\n"
      ],
      "metadata": {
        "id": "wEiWBTNli9cB"
      }
    },
    {
      "cell_type": "code",
      "execution_count": null,
      "metadata": {
        "id": "2mlvnhX8iz1y"
      },
      "outputs": [],
      "source": [
        "# prompt: print \"Hola Mundo\"\n",
        "\n",
        "print(\"Hola Mundo\")\n"
      ]
    },
    {
      "cell_type": "markdown",
      "source": [],
      "metadata": {
        "id": "t1aOoaffi63U"
      }
    }
  ]
}